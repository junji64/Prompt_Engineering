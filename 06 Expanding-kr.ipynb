{
 "cells": [
  {
   "cell_type": "markdown",
   "metadata": {},
   "source": [
    "### Contents\n",
    "\n",
    "* Guidelines for Prompting\n",
    "  - Write clear and specific instructions \n",
    "  - Give the model time to \"think\"\n",
    "  \n",
    "* Iterative prompt development\n",
    "* Capabilities \n",
    "  - Summarizing\n",
    "  - Infering\n",
    "  - Transforming\n",
    "  - **Expanding**\n",
    "* Building a Chatbot\n",
    "\n",
    "# Expanding\n",
    "\n",
    "이 레슨에서는 각 고객의 리뷰에 맞는 고객 서비스 이메일을 생성합니다.\n",
    "\n",
    "## Setup"
   ]
  },
  {
   "cell_type": "code",
   "execution_count": 1,
   "metadata": {},
   "outputs": [],
   "source": [
    "import openai\n",
    "import os\n",
    "\n",
    "from dotenv import load_dotenv, find_dotenv\n",
    "_ = load_dotenv(find_dotenv()) # read local .env file\n",
    "\n",
    "openai.api_key  = os.getenv('OPENAI_API_KEY')"
   ]
  },
  {
   "cell_type": "code",
   "execution_count": 2,
   "metadata": {},
   "outputs": [],
   "source": [
    "def get_completion(prompt, model=\"gpt-3.5-turbo\", temperature=0):\n",
    "    messages = [{\"role\": \"user\", \"content\": prompt}]\n",
    "    response = openai.chat.completions.create(\n",
    "        model=model,\n",
    "        messages=messages,\n",
    "        temperature=temperature, # 이것는 모델 출력의 무작위성 정도를 말합니다.[0~1]\n",
    "    )\n",
    "    return response.choices[0].message.content"
   ]
  },
  {
   "cell_type": "markdown",
   "metadata": {},
   "source": [
    "## Customize the automated reply to a customer email"
   ]
  },
  {
   "cell_type": "code",
   "execution_count": 3,
   "metadata": {},
   "outputs": [],
   "source": [
    "# given the sentiment from the lesson on \"inferring\",\n",
    "# and the original customer message, customize the email\n",
    "sentiment = \"부정적\"\n",
    "\n",
    "# review for a blender\n",
    "review = f\"\"\"\n",
    "그래서 그들은 여전히 11월에 약 49달러에 계절 판매로 17피스 시스템을\\\n",
    "가지고 있었는데, 약 절반 정도 할인되었지만 어떤 이유로(바가지 가격이라고 부름)\\\n",
    "12월 둘째 주쯤에 가격이 모두 올라갔습니다. 동일한 시스템에\\\n",
    "대해 $70-$89 사이입니다. 그리고 11피스 시스템은 이전 판매 가격인\\\n",
    "$29에서 $10 정도 가격이 올랐습니다. 그래서 괜찮아 보이지만\\\n",
    "베이스를 보면 블레이드가 제자리에 고정되는 부분이 몇 년 전의\\\n",
    "이전 버전만큼 좋지는 않지만 매우 부드럽게 할 계획입니다.\\\n",
    "콩, 얼음, 쌀 등과 같이 매우 단단한 재료를 먼저 블렌더에서\\\n",
    "분쇄한 다음 블렌더에서 원하는 서빙 크기로 분쇄한 다음\\\n",
    "더 고운 밀가루를 위해 휘핑 칼날로 전환하고 스무디를 만들 때\\\n",
    "먼저 십자 칼날을 사용합니다. , 그런 다음 더 미세하거나\\\n",
    "덜 펄프가 필요한 경우 플랫 블레이드를 사용하십시오). \\\n",
    "스무디를 만들 때 특별한 팁, 사용할 과일과 야채를 잘게 \\\n",
    "자르고 얼립니다(시금치를 사용하는 경우-시금치를 살짝 끓인 다음\\\n",
    "사용할 준비가 될 때까지 얼립니다-셔벗을 만들 경우 중소형 푸드 프로세서 사용).\\\n",
    "그렇게 하면 스무디를 만들 때 얼음을 너무 많이 넣지 않아도 됩니다.\\\n",
    "약 1년 후 모터에서 이상한 소리가 났습니다. 고객센터에 전화를\\\n",
    "했는데 보증기간이 이미 만료돼서 하나 더 사야 했어요.\\\n",
    "FYI: 이러한 유형의 제품에서는 전반적인 품질이 완성되었으므로\\\n",
    "판매를 유지하기 위해 브랜드 인지도와 소비자 충성도에 의존하고\\\n",
    "있습니다. 약 이틀만에 받았습니다.\n",
    "\"\"\""
   ]
  },
  {
   "cell_type": "code",
   "execution_count": 4,
   "metadata": {},
   "outputs": [
    {
     "name": "stdout",
     "output_type": "stream",
     "text": [
      "제안드린 제품에 대한 부정적인 리뷰를 받아서 안타깝게 생각합니다. 고객님의 소중한 의견을 감사히 받아들이고, 제품의 품질과 가격 변동에 대한 불만을 진심으로 사과드립니다. 고객 서비스팀에 문의하시면 더 나은 해결책을 찾아드릴 수 있을 것입니다. 또한, 제품 사용 시 주의사항과 유용한 정보를 제공해주셔서 감사합니다. 더 나은 서비스를 제공하기 위해 노력하겠습니다. 감사합니다.\n",
      "\n",
      "AI 고객 상담원\n"
     ]
    }
   ],
   "source": [
    "prompt = f\"\"\"\n",
    "당신은 고객 서비스 AI 비서입니다.\n",
    "당신의 임무는 소중한 고객에게 이메일 답장을 보내는 것입니다.\n",
    "```로 구분된 고객 이메일을 고려하여 고객의 검토에 대한 감사의 답장을 생성합니다.\n",
    "의견이 긍정적이거나 중립적이라면 검토해 주셔서 감사합니다.\n",
    "감정이 부정적이면 사과하고 고객 서비스에 연락할 수 있다고 제안합니다.\n",
    "리뷰의 특정 세부 정보를 사용하십시오.\n",
    "간결하고 전문적인 어조로 작성하십시오.\n",
    "'AI 고객 상담원'으로 이메일에 서명합니다.\n",
    "고객 리뷰: ```{review}```\n",
    "리뷰 감정: {sentiment}\n",
    "\"\"\"\n",
    "response = get_completion(prompt)\n",
    "print(response)"
   ]
  },
  {
   "cell_type": "markdown",
   "metadata": {},
   "source": [
    "### Temperature\n",
    "\n",
    "<img src=\"./temp.PNG\" width=400>"
   ]
  },
  {
   "cell_type": "markdown",
   "metadata": {},
   "source": [
    "## Remind the model to use details from the customer's email"
   ]
  },
  {
   "cell_type": "code",
   "execution_count": 5,
   "metadata": {},
   "outputs": [
    {
     "name": "stdout",
     "output_type": "stream",
     "text": [
      "제가 고객 서비스 AI 비서입니다. 고객님의 리뷰를 읽어 주셔서 감사합니다. 제품에 대한 부정적인 경험으로 인해 안타깝게 생각합니다. 이러한 문제로 불편을 끼쳐드려 죄송합니다.\n",
      "\n",
      "고객님이 언급하신 문제에 대해 고객 서비스팀이 도와드릴 수 있습니다. 제품 보증기간이 만료되었지만 추가 도움이 필요하시면 고객 서비스팀에 연락하실 것을 권장드립니다.\n",
      "\n",
      "고객님의 소중한 의견은 저희에게 매우 중요하며, 제품 품질 향상에 대한 피드백을 고려할 것입니다. 추가 문의 사항이 있으시면 언제든지 문의해 주세요.\n",
      "\n",
      "감사합니다.\n",
      "AI 고객 상담원\n"
     ]
    }
   ],
   "source": [
    "prompt = f\"\"\"\n",
    "당신은 고객 서비스 AI 비서입니다.\n",
    "당신의 임무는 소중한 고객에게 이메일 답장을 보내는 것입니다.\n",
    "```로 구분된 고객 이메일을 고려하여 고객의 검토에 대한 감사의 답장을 생성합니다.\n",
    "의견이 긍정적이거나 중립적이라면 검토해 주셔서 감사합니다.\n",
    "감정이 부정적이면 사과하고 고객 서비스에 연락할 수 있다고 제안합니다.\n",
    "리뷰의 특정 세부 정보를 사용하십시오.\n",
    "간결하고 전문적인 어조로 작성하십시오.\n",
    "'AI 고객 상담원'으로 이메일에 서명합니다.\n",
    "고객 리뷰: ```{review}```\n",
    "리뷰 감정: {sentiment}\n",
    "\"\"\"\n",
    "response = get_completion(prompt, temperature=0.7)\n",
    "print(response)"
   ]
  },
  {
   "cell_type": "markdown",
   "metadata": {},
   "source": [
    "## Try experimenting on your own!"
   ]
  },
  {
   "cell_type": "code",
   "execution_count": null,
   "metadata": {},
   "outputs": [],
   "source": []
  }
 ],
 "metadata": {
  "kernelspec": {
   "display_name": "Python 3 (ipykernel)",
   "language": "python",
   "name": "python3"
  },
  "language_info": {
   "codemirror_mode": {
    "name": "ipython",
    "version": 3
   },
   "file_extension": ".py",
   "mimetype": "text/x-python",
   "name": "python",
   "nbconvert_exporter": "python",
   "pygments_lexer": "ipython3",
   "version": "3.11.4"
  }
 },
 "nbformat": 4,
 "nbformat_minor": 4
}
