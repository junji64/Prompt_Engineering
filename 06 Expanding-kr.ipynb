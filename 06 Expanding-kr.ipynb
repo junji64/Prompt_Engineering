{
 "cells": [
  {
   "cell_type": "markdown",
   "metadata": {},
   "source": [
    "### Contents\n",
    "\n",
    "* Guidelines for Prompting\n",
    "  - Write clear and specific instructions \n",
    "  - Give the model time to \"think\"\n",
    "  \n",
    "* Iterative prompt development\n",
    "* Capabilities \n",
    "  - Summarizing\n",
    "  - Infering\n",
    "  - Transforming\n",
    "  - **Expanding**\n",
    "* Building a Chatbot\n",
    "\n",
    "# Expanding\n",
    "\n",
    "이 레슨에서는 각 고객의 리뷰에 맞는 고객 서비스 이메일을 생성합니다.\n",
    "\n",
    "## Setup"
   ]
  },
  {
   "cell_type": "code",
   "execution_count": 23,
   "metadata": {},
   "outputs": [],
   "source": [
    "import openai\n",
    "import os\n",
    "\n",
    "from dotenv import load_dotenv, find_dotenv\n",
    "_ = load_dotenv(find_dotenv()) # read local .env file\n",
    "\n",
    "openai.api_key  = os.getenv('OPENAI_API_KEY')"
   ]
  },
  {
   "cell_type": "code",
   "execution_count": 25,
   "metadata": {},
   "outputs": [],
   "source": [
    "def get_completion(prompt, model=\"gpt-3.5-turbo\",temperature=0): # Andrew mentioned that the prompt/ completion paradigm is preferable for this class\n",
    "    messages = [{\"role\": \"user\", \"content\": prompt}]\n",
    "    response = openai.ChatCompletion.create(\n",
    "        model=model,\n",
    "        messages=messages,\n",
    "        temperature=temperature, # this is the degree of randomness of the model's output\n",
    "    )\n",
    "    return response.choices[0].message[\"content\"]"
   ]
  },
  {
   "cell_type": "markdown",
   "metadata": {},
   "source": [
    "## Customize the automated reply to a customer email"
   ]
  },
  {
   "cell_type": "code",
   "execution_count": 26,
   "metadata": {},
   "outputs": [],
   "source": [
    "# given the sentiment from the lesson on \"inferring\",\n",
    "# and the original customer message, customize the email\n",
    "sentiment = \"부정적\"\n",
    "\n",
    "# review for a blender\n",
    "review = f\"\"\"\n",
    "그래서 그들은 여전히 11월에 약 49달러에 계절 판매로 17피스 시스템을\\\n",
    "가지고 있었는데, 약 절반 정도 할인되었지만 어떤 이유로(바가지 가격이라고 부름)\\\n",
    "12월 둘째 주쯤에 가격이 모두 올라갔습니다. 동일한 시스템에\\\n",
    "대해 $70-$89 사이입니다. 그리고 11피스 시스템은 이전 판매 가격인\\\n",
    "$29에서 $10 정도 가격이 올랐습니다. 그래서 괜찮아 보이지만\\\n",
    "베이스를 보면 블레이드가 제자리에 고정되는 부분이 몇 년 전의\\\n",
    "이전 버전만큼 좋지는 않지만 매우 부드럽게 할 계획입니다.\\\n",
    "콩, 얼음, 쌀 등과 같이 매우 단단한 재료를 먼저 블렌더에서\\\n",
    "분쇄한 다음 블렌더에서 원하는 서빙 크기로 분쇄한 다음\\\n",
    "더 고운 밀가루를 위해 휘핑 칼날로 전환하고 스무디를 만들 때\\\n",
    "먼저 십자 칼날을 사용합니다. , 그런 다음 더 미세하거나\\\n",
    "덜 펄프가 필요한 경우 플랫 블레이드를 사용하십시오). \\\n",
    "스무디를 만들 때 특별한 팁, 사용할 과일과 야채를 잘게 \\\n",
    "자르고 얼립니다(시금치를 사용하는 경우-시금치를 살짝 끓인 다음\\\n",
    "사용할 준비가 될 때까지 얼립니다-셔벗을 만들 경우 중소형 푸드 프로세서 사용).\\\n",
    "그렇게 하면 스무디를 만들 때 얼음을 너무 많이 넣지 않아도 됩니다.\\\n",
    "약 1년 후 모터에서 이상한 소리가 났습니다. 고객센터에 전화를\\\n",
    "했는데 보증기간이 이미 만료돼서 하나 더 사야 했어요.\\\n",
    "FYI: 이러한 유형의 제품에서는 전반적인 품질이 완성되었으므로\\\n",
    "판매를 유지하기 위해 브랜드 인지도와 소비자 충성도에 의존하고\\\n",
    "있습니다. 약 이틀만에 받았습니다.\n",
    "\"\"\""
   ]
  },
  {
   "cell_type": "code",
   "execution_count": 28,
   "metadata": {},
   "outputs": [
    {
     "name": "stdout",
     "output_type": "stream",
     "text": [
      "제안드린 리뷰를 검토해 주셔서 감사합니다. 고객님의 의견을 소중히 받아들이고 있습니다.\n",
      "\n",
      "고객님의 경험에 대해 매우 유감스럽게 생각하며, 이에 대해 진심으로 사과드립니다. 제품의 가격 변동과 모터 소음에 대한 불편을 느끼셨다는 점에 대해 깊이 이해하고 있습니다.\n",
      "\n",
      "고객 서비스팀에 문의하시면 더 나은 해결책을 찾을 수 있을 것으로 기대됩니다. 고객님의 소중한 의견을 토대로 제품 품질 향상에 노력하겠습니다.\n",
      "\n",
      "더 나은 서비스를 제공할 수 있도록 노력하겠습니다. 언제든지 도움이 필요하시면 고객 서비스팀에 연락해 주시기 바랍니다.\n",
      "\n",
      "감사합니다.\n",
      "\n",
      "AI 고객 상담원\n"
     ]
    }
   ],
   "source": [
    "prompt = f\"\"\"\n",
    "당신은 고객 서비스 AI 비서입니다.\n",
    "당신의 임무는 소중한 고객에게 이메일 답장을 보내는 것입니다.\n",
    "```로 구분된 고객 이메일을 고려하여 고객의 검토에 대한 감사의 답장을 생성합니다.\n",
    "의견이 긍정적이거나 중립적이라면 검토해 주셔서 감사합니다.\n",
    "감정이 부정적이면 사과하고 고객 서비스에 연락할 수 있다고 제안합니다.\n",
    "리뷰의 특정 세부 정보를 사용하십시오.\n",
    "간결하고 전문적인 어조로 작성하십시오.\n",
    "'AI 고객 상담원'으로 이메일에 서명합니다.\n",
    "고객 리뷰: ```{review}```\n",
    "리뷰 감정: {sentiment}\n",
    "\"\"\"\n",
    "response = get_completion(prompt)\n",
    "print(response)"
   ]
  },
  {
   "cell_type": "markdown",
   "metadata": {},
   "source": [
    "### Temperature\n",
    "\n",
    "<img src=\"./temp.PNG\" width=400>"
   ]
  },
  {
   "cell_type": "markdown",
   "metadata": {},
   "source": [
    "## Remind the model to use details from the customer's email"
   ]
  },
  {
   "cell_type": "code",
   "execution_count": 31,
   "metadata": {},
   "outputs": [
    {
     "name": "stdout",
     "output_type": "stream",
     "text": [
      "제가 이메일을 작성하여 문제를 해결해드리겠습니다.\n",
      "\n",
      "고객님,\n",
      "\n",
      "고객 서비스 AI 비서로서 고객님이 제공해주신 소중한 리뷰를 검토하였습니다. 먼저 저희 제품에 대한 부정적인 경험으로 인해 깊은 유감을 표합니다. 고객님이 경험하신 문제와 불편함에 대해 진심으로 사과드립니다.\n",
      "\n",
      "고객님의 리뷰를 토대로 제품의 가격 변동과 성능 문제 등을 주의깊게 검토하고 개선할 수 있는 방법을 고민하고 있습니다. 고객님의 소중한 의견은 저희에게 매우 중요하며, 이를 토대로 더 나은 서비스를 제공할 수 있도록 노력하겠습니다.\n",
      "\n",
      "문제 해결을 위해 추가적인 도움이 필요하신 경우 언제든지 고객 서비스팀에 연락 주시기 바랍니다. 우리는 항상 여러분의 편의를 위해 최선을 다할 것을 약속드립니다.\n",
      "\n",
      "감사합니다.\n",
      "\n",
      "AI 고객 상담원\n"
     ]
    }
   ],
   "source": [
    "prompt = f\"\"\"\n",
    "당신은 고객 서비스 AI 비서입니다.\n",
    "당신의 임무는 소중한 고객에게 이메일 답장을 보내는 것입니다.\n",
    "```로 구분된 고객 이메일을 고려하여 고객의 검토에 대한 감사의 답장을 생성합니다.\n",
    "의견이 긍정적이거나 중립적이라면 검토해 주셔서 감사합니다.\n",
    "감정이 부정적이면 사과하고 고객 서비스에 연락할 수 있다고 제안합니다.\n",
    "리뷰의 특정 세부 정보를 사용하십시오.\n",
    "간결하고 전문적인 어조로 작성하십시오.\n",
    "'AI 고객 상담원'으로 이메일에 서명합니다.\n",
    "고객 리뷰: ```{review}```\n",
    "리뷰 감정: {sentiment}\n",
    "\"\"\"\n",
    "response = get_completion(prompt, temperature=0.7)\n",
    "print(response)"
   ]
  },
  {
   "cell_type": "markdown",
   "metadata": {},
   "source": [
    "## Try experimenting on your own!"
   ]
  },
  {
   "cell_type": "code",
   "execution_count": null,
   "metadata": {},
   "outputs": [],
   "source": []
  }
 ],
 "metadata": {
  "kernelspec": {
   "display_name": "Python 3 (ipykernel)",
   "language": "python",
   "name": "python3"
  },
  "language_info": {
   "codemirror_mode": {
    "name": "ipython",
    "version": 3
   },
   "file_extension": ".py",
   "mimetype": "text/x-python",
   "name": "python",
   "nbconvert_exporter": "python",
   "pygments_lexer": "ipython3",
   "version": "3.11.4"
  }
 },
 "nbformat": 4,
 "nbformat_minor": 4
}
