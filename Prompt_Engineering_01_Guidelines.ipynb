{
  "nbformat": 4,
  "nbformat_minor": 0,
  "metadata": {
    "colab": {
      "provenance": [],
      "authorship_tag": "ABX9TyML5lMvwNkc258jGdj+sL1c",
      "include_colab_link": true
    },
    "kernelspec": {
      "name": "python3",
      "display_name": "Python 3"
    },
    "language_info": {
      "name": "python"
    }
  },
  "cells": [
    {
      "cell_type": "markdown",
      "metadata": {
        "id": "view-in-github",
        "colab_type": "text"
      },
      "source": [
        "<a href=\"https://colab.research.google.com/github/junji64/Prompt_Engineering/blob/main/Prompt_Engineering_01_Guidelines.ipynb\" target=\"_parent\"><img src=\"https://colab.research.google.com/assets/colab-badge.svg\" alt=\"Open In Colab\"/></a>"
      ]
    },
    {
      "cell_type": "code",
      "execution_count": 1,
      "metadata": {
        "colab": {
          "base_uri": "https://localhost:8080/"
        },
        "id": "8cTal4v_8YVd",
        "outputId": "a0c48dc6-4292-4297-e48b-6b915d88e7d6"
      },
      "outputs": [
        {
          "output_type": "stream",
          "name": "stdout",
          "text": [
            "Collecting openai\n",
            "  Downloading openai-1.30.1-py3-none-any.whl (320 kB)\n",
            "\u001b[?25l     \u001b[90m━━━━━━━━━━━━━━━━━━━━━━━━━━━━━━━━━━━━━━━━\u001b[0m \u001b[32m0.0/320.6 kB\u001b[0m \u001b[31m?\u001b[0m eta \u001b[36m-:--:--\u001b[0m\r\u001b[2K     \u001b[91m━━━━━━━━━━━━━━━━━━━━━━━━━━━━━━━━━━━━━━━\u001b[0m\u001b[91m╸\u001b[0m \u001b[32m317.4/320.6 kB\u001b[0m \u001b[31m11.0 MB/s\u001b[0m eta \u001b[36m0:00:01\u001b[0m\r\u001b[2K     \u001b[90m━━━━━━━━━━━━━━━━━━━━━━━━━━━━━━━━━━━━━━━━\u001b[0m \u001b[32m320.6/320.6 kB\u001b[0m \u001b[31m8.4 MB/s\u001b[0m eta \u001b[36m0:00:00\u001b[0m\n",
            "\u001b[?25hRequirement already satisfied: anyio<5,>=3.5.0 in /usr/local/lib/python3.10/dist-packages (from openai) (3.7.1)\n",
            "Requirement already satisfied: distro<2,>=1.7.0 in /usr/lib/python3/dist-packages (from openai) (1.7.0)\n",
            "Collecting httpx<1,>=0.23.0 (from openai)\n",
            "  Downloading httpx-0.27.0-py3-none-any.whl (75 kB)\n",
            "\u001b[?25l     \u001b[90m━━━━━━━━━━━━━━━━━━━━━━━━━━━━━━━━━━━━━━━━\u001b[0m \u001b[32m0.0/75.6 kB\u001b[0m \u001b[31m?\u001b[0m eta \u001b[36m-:--:--\u001b[0m\r\u001b[2K     \u001b[90m━━━━━━━━━━━━━━━━━━━━━━━━━━━━━━━━━━━━━━━━\u001b[0m \u001b[32m75.6/75.6 kB\u001b[0m \u001b[31m9.0 MB/s\u001b[0m eta \u001b[36m0:00:00\u001b[0m\n",
            "\u001b[?25hRequirement already satisfied: pydantic<3,>=1.9.0 in /usr/local/lib/python3.10/dist-packages (from openai) (2.7.1)\n",
            "Requirement already satisfied: sniffio in /usr/local/lib/python3.10/dist-packages (from openai) (1.3.1)\n",
            "Requirement already satisfied: tqdm>4 in /usr/local/lib/python3.10/dist-packages (from openai) (4.66.4)\n",
            "Requirement already satisfied: typing-extensions<5,>=4.7 in /usr/local/lib/python3.10/dist-packages (from openai) (4.11.0)\n",
            "Requirement already satisfied: idna>=2.8 in /usr/local/lib/python3.10/dist-packages (from anyio<5,>=3.5.0->openai) (3.7)\n",
            "Requirement already satisfied: exceptiongroup in /usr/local/lib/python3.10/dist-packages (from anyio<5,>=3.5.0->openai) (1.2.1)\n",
            "Requirement already satisfied: certifi in /usr/local/lib/python3.10/dist-packages (from httpx<1,>=0.23.0->openai) (2024.2.2)\n",
            "Collecting httpcore==1.* (from httpx<1,>=0.23.0->openai)\n",
            "  Downloading httpcore-1.0.5-py3-none-any.whl (77 kB)\n",
            "\u001b[2K     \u001b[90m━━━━━━━━━━━━━━━━━━━━━━━━━━━━━━━━━━━━━━━━\u001b[0m \u001b[32m77.9/77.9 kB\u001b[0m \u001b[31m8.0 MB/s\u001b[0m eta \u001b[36m0:00:00\u001b[0m\n",
            "\u001b[?25hCollecting h11<0.15,>=0.13 (from httpcore==1.*->httpx<1,>=0.23.0->openai)\n",
            "  Downloading h11-0.14.0-py3-none-any.whl (58 kB)\n",
            "\u001b[2K     \u001b[90m━━━━━━━━━━━━━━━━━━━━━━━━━━━━━━━━━━━━━━━━\u001b[0m \u001b[32m58.3/58.3 kB\u001b[0m \u001b[31m6.6 MB/s\u001b[0m eta \u001b[36m0:00:00\u001b[0m\n",
            "\u001b[?25hRequirement already satisfied: annotated-types>=0.4.0 in /usr/local/lib/python3.10/dist-packages (from pydantic<3,>=1.9.0->openai) (0.6.0)\n",
            "Requirement already satisfied: pydantic-core==2.18.2 in /usr/local/lib/python3.10/dist-packages (from pydantic<3,>=1.9.0->openai) (2.18.2)\n",
            "Installing collected packages: h11, httpcore, httpx, openai\n",
            "Successfully installed h11-0.14.0 httpcore-1.0.5 httpx-0.27.0 openai-1.30.1\n",
            "Collecting python-dotenv\n",
            "  Downloading python_dotenv-1.0.1-py3-none-any.whl (19 kB)\n",
            "Installing collected packages: python-dotenv\n",
            "Successfully installed python-dotenv-1.0.1\n"
          ]
        }
      ],
      "source": [
        "!pip install openai\n",
        "!pip install -U python-dotenv\n",
        "import openai\n",
        "import os\n",
        "\n",
        "from dotenv import load_dotenv, find_dotenv\n",
        "_ = load_dotenv(find_dotenv())  # read local .env file of OPENAI_API_KEY='sk-***'\n",
        "openai.api_key  = os.getenv('OPENAI_API_KEY')"
      ]
    },
    {
      "cell_type": "markdown",
      "source": [
        "# Prompt Engineering for Developers\n",
        "\n",
        "**프롬프트(Prompts)** 에는 원하는 작업을 수행하기 위해 언어 모델에 전달되는 지시(instruction) 및 문맥/컨텍스트(context)가 포함됩니다.\n",
        "<br>\n",
        "\n",
        "**프롬프트 엔지니어링(Prompt engineering)** 은 다양한 애플리케이션에서 언어 모델(LM)을 효율적으로 사용하기 위해 프롬프트를 개발하고 최적화하는 작업입니다.\n",
        "\n",
        "```\n",
        "(ChatGPT)  LLM에서의 프롬프트 엔지니어링이란? 한 문장으로\n",
        "\n",
        "LLM에서의 프롬프트 엔지니어링은 사용자가 제공한 텍스트 입력에 기반하여 모델의 출력을 조절하고 개선하는 기술입니다.\n",
        "```\n",
        "\n",
        "#### Contents\n",
        "\n",
        "* Guidelines for Prompting\n",
        "  - Write clear and specific instructions\n",
        "  - Give the model time to \"think\"\n",
        "  \n",
        "* Iterative prompt development\n",
        "* Capabilities\n",
        "  - Summarizing\n",
        "  - Infering\n",
        "  - Transforming\n",
        "  - Expanding\n",
        "* Building a Chatbot"
      ],
      "metadata": {
        "id": "bo4BAKXG-JRu"
      }
    },
    {
      "cell_type": "code",
      "source": [
        "def get_completion(prompt, model=\"gpt-3.5-turbo\"):\n",
        "    messages = [{\"role\": \"user\", \"content\": prompt}]\n",
        "    response = openai.ChatCompletion.create(\n",
        "        model=model,\n",
        "        messages=messages,\n",
        "        temperature=0, # 이것는 모델 출력의 무작위성 정도를 말합니다.[0~1]\n",
        "    )\n",
        "    return response.choices[0].message[\"content\"]"
      ],
      "metadata": {
        "id": "FB8nAQqW8o6c"
      },
      "execution_count": 2,
      "outputs": []
    },
    {
      "cell_type": "code",
      "source": [
        "def get_completion(prompt, model=\"gpt-3.5-turbo\"):\n",
        "    messages = [{\"role\": \"user\", \"content\": prompt}]\n",
        "    response = openai.chat.completions.create(\n",
        "        model=model,\n",
        "        messages=messages,\n",
        "        temperature=0, # 이것는 모델 출력의 무작위성 정도를 말합니다.[0~1]\n",
        "    )\n",
        "    return response.choices[0].message.content"
      ],
      "metadata": {
        "id": "i6fM6tH09BEM"
      },
      "execution_count": 4,
      "outputs": []
    },
    {
      "cell_type": "code",
      "source": [
        "text = f\"\"\"\n",
        "가능한 한 명확하고 구체적인 지침을 제공하여 \\\n",
        "모델이 수행할 작업을 표현해야 합니다.\\\n",
        "이렇게 하면 모델이 원하는 출력으로 안내되고 \\\n",
        "관련이 없거나 잘못된 응답을 받을 가능성이 줄어듭니다. \\\n",
        "명확한 프롬프트를 작성하는 것과 짧은 프롬프트를 작성하는 것을\\\n",
        "혼동하지 마십시오.\n",
        "대부분의 경우 프롬프트가 길면 길수록 모델에 대한\n",
        "명확성과 컨텍스트를 제공하여 보다 상세하고 관련성 높은 출력으로\\\n",
        "이어질 수 있습니다.\n",
        "\"\"\"\n",
        "prompt = f\"\"\"\n",
        "세 개의 백틱으로 구분된 텍스트를 짧은 한 문장으로 요약합니다.\n",
        "```{text}```\n",
        "\"\"\"\n",
        "response = get_completion(prompt)\n",
        "print(response)"
      ],
      "metadata": {
        "colab": {
          "base_uri": "https://localhost:8080/"
        },
        "id": "fQcj1GoZ8u1y",
        "outputId": "4957e99c-2765-4437-ec91-f4e63c3ca403"
      },
      "execution_count": 5,
      "outputs": [
        {
          "output_type": "stream",
          "name": "stdout",
          "text": [
            "모델이 수행할 작업을 명확하고 구체적으로 지시해야 하며, 프롬프트가 길면 더 많은 컨텍스트를 제공하여 더 관련성 높은 출력을 얻을 수 있습니다.\n"
          ]
        }
      ]
    },
    {
      "cell_type": "code",
      "source": [
        "prompt = f\"\"\"\n",
        "저자 및 장르와 함께 3개의 가상의 책 제목 목록을 생성합니다. \\\n",
        "다음 키와 함께 JSON 형식으로 제공하십시오: \\\n",
        "책_아이디, 제목, 저자, 장르.\n",
        "\"\"\"\n",
        "response = get_completion(prompt)\n",
        "print(response)"
      ],
      "metadata": {
        "colab": {
          "base_uri": "https://localhost:8080/"
        },
        "id": "pYVQVSep8xaS",
        "outputId": "582ec114-fa43-43ae-d9ac-67e88df42b0f"
      },
      "execution_count": 6,
      "outputs": [
        {
          "output_type": "stream",
          "name": "stdout",
          "text": [
            "{\n",
            "  \"도서\": [\n",
            "    {\n",
            "      \"책_아이디\": 1,\n",
            "      \"제목\": \"어둠 속의 비밀\",\n",
            "      \"저자\": \"이지은\",\n",
            "      \"장르\": \"미스터리\"\n",
            "    },\n",
            "    {\n",
            "      \"책_아이디\": 2,\n",
            "      \"제목\": \"별빛을 따라서\",\n",
            "      \"저자\": \"김영하\",\n",
            "      \"장르\": \"로맨스\"\n",
            "    },\n",
            "    {\n",
            "      \"책_아이디\": 3,\n",
            "      \"제목\": \"마법의 숲 속으로\",\n",
            "      \"저자\": \"박민경\",\n",
            "      \"장르\": \"판타지\"\n",
            "    }\n",
            "  ]\n",
            "}\n"
          ]
        }
      ]
    },
    {
      "cell_type": "code",
      "source": [
        "text_1 = f\"\"\"\n",
        "차 한 잔을 만드는 것은 쉽습니다! 먼저, 물을 끓일 필요가 있습니다.\\\n",
        "그런 일이 일어나는 동안 컵을 들고 그 안에 티백을 넣으십시오.\\\n",
        "물이 충분히 뜨거우면 티백 위에 붓기만 하면 됩니다.\\\n",
        "차를 우려낼 수 있도록 잠시 그대로 두십시오. \\\n",
        "몇 분 후 티백을 꺼냅니다. 기호에 따라 설탕이나 우유를\\\n",
        "약간 첨가하여 맛을 볼 수 있습니다. 그리고 그게 다입니다!\\\n",
        "맛있는 차 한 잔을 즐길 수 있습니다.\n",
        "\"\"\"\n",
        "prompt = f\"\"\"\n",
        "삼중 따옴표로 구분된 텍스트가 제공됩니다.\n",
        "일련의 지침이 포함된 경우 해당 지침을 다음 형식으로 다시 작성하십시오.\n",
        "\n",
        "1 단계 - ...\n",
        "2 단계 - …\n",
        "…\n",
        "N 단계 - …\n",
        "\n",
        "텍스트에 일련의 지침이 포함되어 있지 않으면\\\n",
        "\\\"제공된 단계 없음\\\"이라고 쓰면 됩니다.\n",
        "\\\"\\\"\\\"{text_1}\\\"\\\"\\\"\n",
        "\"\"\"\n",
        "response = get_completion(prompt)\n",
        "print(\"Completion for Text 1:\")\n",
        "print(response)"
      ],
      "metadata": {
        "colab": {
          "base_uri": "https://localhost:8080/"
        },
        "id": "jzg_3xrk9uyb",
        "outputId": "7410467b-8b64-4f79-f24a-18e88a9df879"
      },
      "execution_count": 7,
      "outputs": [
        {
          "output_type": "stream",
          "name": "stdout",
          "text": [
            "Completion for Text 1:\n",
            "1 단계 - 물을 끓입니다.\n",
            "2 단계 - 컵에 티백을 넣습니다.\n",
            "3 단계 - 뜨거운 물을 티백 위에 붓습니다.\n",
            "4 단계 - 차를 우려냅니다.\n",
            "5 단계 - 티백을 꺼냅니다.\n",
            "6 단계 - 설탕이나 우유를 첨가하여 맛을 볼 수 있습니다.\n"
          ]
        }
      ]
    },
    {
      "cell_type": "code",
      "source": [
        "text_2 = f\"\"\"\n",
        "오늘은 태양이 밝게 빛나고 새들이 지저귀고 있습니다.\\\n",
        "공원에서 산책하기 좋은 날입니다. 꽃은 피고 나무는\\\n",
        "바람에 부드럽게 흔들립니다. 사람들은 아름다운 날씨를\\\n",
        "즐기며 여기저기 돌아다니고 있습니다. 누군가는 소풍을 가고,\\\n",
        "다른 누군가는 게임을 하거나 잔디밭에서 휴식을 취하고 있습니다.\\\n",
        "야외에서 시간을 보내고 자연의 아름다움을 감상하기에 완벽한 날입니다.\n",
        "\"\"\"\n",
        "prompt = f\"\"\"\n",
        "삼중 따옴표로 구분된 텍스트가 제공됩니다.\n",
        "일련의 지침이 포함된 경우 해당 지침을 다음 형식으로 다시 작성하십시오.\n",
        "\n",
        "1 단계 - ...\n",
        "2 단계 - …\n",
        "…\n",
        "N 단계 - …\n",
        "\n",
        "텍스트에 일련의 지침이 포함되어 있지 않으면\\\n",
        "\\\"제공된 단계 없음\\\"이라고 쓰면 됩니다.\n",
        "\\\"\\\"\\\"{text_2}\\\"\\\"\\\"\n",
        "\"\"\"\n",
        "response = get_completion(prompt)\n",
        "print(\"Completion for Text 2:\")\n",
        "print(response)"
      ],
      "metadata": {
        "colab": {
          "base_uri": "https://localhost:8080/"
        },
        "id": "25OYMah59xnq",
        "outputId": "78577bb7-2baa-4dd7-8a63-8c14eea58bb7"
      },
      "execution_count": 8,
      "outputs": [
        {
          "output_type": "stream",
          "name": "stdout",
          "text": [
            "Completion for Text 2:\n",
            "제공된 단계 없음\n"
          ]
        }
      ]
    },
    {
      "cell_type": "code",
      "source": [
        "prompt = f\"\"\"\n",
        "당신의 임무는 일관된 스타일로 대답하는 것입니다.\n",
        "\n",
        "<아이>: 인내심에 대해 가르쳐 주세요.\n",
        "\n",
        "<할아버지>: 가장 깊은 계곡을 파고드는 강은 겸손한 샘에서 흘러나온단다.\\\n",
        "가장 웅장한 교향곡은 하나의 음표에서 비롯된단다. \\\n",
        "가장 복잡한 태피스트리는 하나의 실에서 시작된단다.\n",
        "\n",
        "<아이>: 탄력성에 대해 가르쳐 주세요.\n",
        "\"\"\"\n",
        "response = get_completion(prompt)\n",
        "print(response)"
      ],
      "metadata": {
        "colab": {
          "base_uri": "https://localhost:8080/"
        },
        "id": "WMLihbfh90ly",
        "outputId": "43ea8c87-ab5e-4c48-a576-5bde92ba47b1"
      },
      "execution_count": 9,
      "outputs": [
        {
          "output_type": "stream",
          "name": "stdout",
          "text": [
            "<할아버지>: 탄력성은 어려운 시련을 겪을 때 우리가 얼마나 빨리 회복할 수 있는지를 말합니다. 마치 나무가 강한 바람에 휘어져도 다시 일어설 수 있는 것처럼, 우리도 어려움을 극복하고 다시 일어날 수 있어야 합니다. 이는 우리의 내면 강함과 유연성을 보여주는 것이기도 합니다.\n"
          ]
        }
      ]
    },
    {
      "cell_type": "code",
      "source": [
        "text = f\"\"\"\n",
        "매력적인 마을에서 Jack과 Jill 남매는 언덕 위 우물에서 물을 길러 나갔습니다.\\\n",
        "그들이 즐겁게 노래하며 올라가는 동안 불행이 닥쳤습니다.\\\n",
        "잭이 돌에 걸려 넘어져 언덕 아래로 굴러 떨어졌고 질도 그 뒤를 따랐습니다.\\\n",
        "약간 타박상을 당했지만 두 사람은 위로의 포옹과 함께 집으로 돌아 왔습니다.\\\n",
        "사고에도 불구하고 그들의 모험심은 흐트러지지 않았으며\\\n",
        "그들은 기쁨으로 탐험을 계속했습니다.\n",
        "\"\"\"\n",
        "# example 1\n",
        "prompt_1 = f\"\"\"\n",
        "다음 작업을 수행합니다.\n",
        "1 - 세 개의 백틱으로 구분된 다음 텍스트를 한 문장으로 요약합니다.\n",
        "2 - 요약된 한 문장을 프랑스어로 번역합니다.\n",
        "3 - 프랑스어 요약에 각 이름을 나열합니다.\n",
        "4 - french_summary, num_names 키가 포함된 json 개체를 출력합니다.\n",
        "\n",
        "답을 줄 바꿈으로 구분하십시오.\n",
        "\n",
        "텍스트:\n",
        "```{text}```\n",
        "\"\"\"\n",
        "response = get_completion(prompt_1)\n",
        "print(\"Completion for prompt 1:\")\n",
        "print(response)"
      ],
      "metadata": {
        "colab": {
          "base_uri": "https://localhost:8080/"
        },
        "id": "us9-ovl_927z",
        "outputId": "78521a48-c0de-48c5-93d4-1257d1f423f0"
      },
      "execution_count": 10,
      "outputs": [
        {
          "output_type": "stream",
          "name": "stdout",
          "text": [
            "Completion for prompt 1:\n",
            "Jack과 Jill은 우물에서 물을 길러 나갔지만 불행이 닥쳤습니다. - Jack, Jill\n",
            "Jack et Jill sont allés chercher de l'eau au puits dans un charmant village, mais ont rencontré un malheur. - Jack, Jill\n",
            "\n",
            "{\n",
            "  \"french_summary\": \"Jack et Jill sont allés chercher de l'eau au puits dans un charmant village, mais ont rencontré un malheur.\",\n",
            "  \"num_names\": 2\n",
            "}\n"
          ]
        }
      ]
    },
    {
      "cell_type": "code",
      "source": [
        "prompt_2 = f\"\"\"\n",
        "귀하의 임무는 다음 작업을 수행하는 것입니다.\n",
        "1 - <>로 구분된 다음 텍스트를 한 문장으로 요약하십시오.\n",
        "2 - 요약된 한 문장을 프랑스어로 번역합니다.\n",
        "3 - 프랑스어 요약에 각 이름을 나열합니다.\n",
        "4 - 다음을 포함하는 json 개체를 출력합니다.\n",
        "   다음 키: french_summary, num_names.\n",
        "\n",
        "다음 형식을 사용하십시오.:\n",
        "Text: <text to summarize>\n",
        "Summary: <summary>\n",
        "Translation: <summary translation>\n",
        "Names: <list of names in Italian summary>\n",
        "Output JSON: <json with summary and num_names>\n",
        "\n",
        "Text: <{text}>\n",
        "\"\"\"\n",
        "response = get_completion(prompt_2)\n",
        "print(\"\\nCompletion for prompt 2:\")\n",
        "print(response)"
      ],
      "metadata": {
        "colab": {
          "base_uri": "https://localhost:8080/"
        },
        "id": "L3XYsTqz95Wk",
        "outputId": "3a7d2daf-05be-4ae5-b32b-7516eac1421f"
      },
      "execution_count": 11,
      "outputs": [
        {
          "output_type": "stream",
          "name": "stdout",
          "text": [
            "\n",
            "Completion for prompt 2:\n",
            "Summary: Jack과 Jill은 우물에서 물을 길러 나갔지만 불행히도 넘어져서 다쳤지만, 위로의 포옹과 함께 집으로 돌아왔습니다.\n",
            "\n",
            "Translation: Jack et Jill sont allés chercher de l'eau dans un puits charmant village, mais ont malheureusement trébuché et se sont blessés, mais sont rentrés chez eux avec une étreinte réconfortante.\n",
            "\n",
            "Names: Jack, Jill\n",
            "\n",
            "Output JSON: \n",
            "{\n",
            "  \"french_summary\": \"Jack et Jill sont allés chercher de l'eau dans un puits charmant village, mais ont malheureusement trébuché et se sont blessés, mais sont rentrés chez eux avec une étreinte réconfortante.\",\n",
            "  \"num_names\": 2\n",
            "}\n"
          ]
        }
      ]
    },
    {
      "cell_type": "code",
      "source": [
        "prompt = f\"\"\"\n",
        "학생의 솔루션이 올바른지 확인하십시오.\n",
        "\n",
        "질문:\n",
        "저는 태양광 발전 시설을 짓고 있는데 재정 문제를 해결하는 데 \\\n",
        "도움이 필요합니다.\n",
        "- 토지 비용 $100/평방피트\n",
        "- 평방피트당 $250에 태양광 패널을 살 수 있습니다.\n",
        "- 연간 $100,000의 고정 비용과 평방 피트당 $10의 추가 비용이 드는\\\n",
        "유지 보수 계약을 협상했습니다.\n",
        "평방 피트 수의 함수로 운영 첫 해의 총 비용은 얼마입니까?\n",
        "\n",
        "학생의 솔루션:\n",
        "x를 평방 피트 단위의 설치 크기라고 합니다.\n",
        "비용:\n",
        "1. 토지 비용: 100x\n",
        "2. 태양 전지 패널 비용: 250x\n",
        "3. 유지비 : 100,000 + 100x\n",
        "총 비용: 100x + 250x + 100,000 + 100x = 450x + 100,000\n",
        "\"\"\"\n",
        "response = get_completion(prompt)\n",
        "print(response)"
      ],
      "metadata": {
        "colab": {
          "base_uri": "https://localhost:8080/"
        },
        "id": "vzsKMxij9737",
        "outputId": "87bdea75-d510-48bf-8cc7-4dac1c7c4ffb"
      },
      "execution_count": 12,
      "outputs": [
        {
          "output_type": "stream",
          "name": "stdout",
          "text": [
            "학생의 솔루션은 올바릅니다. 따라서 운영 첫 해의 총 비용은 450x + 100,000이 됩니다.\n"
          ]
        }
      ]
    },
    {
      "cell_type": "code",
      "source": [
        "prompt = f\"\"\"\n",
        "귀하의 임무는 학생의 솔루션이 올바른지 여부를 결정하는 것입니다.\n",
        "문제를 해결하려면 다음을 수행하십시오.\n",
        "- 먼저 문제에 대한 자신의 솔루션을 찾으십시오.\n",
        "- 그런 다음 자신의 솔루션을 학생의 솔루션과 비교하고 \\\n",
        "학생의 솔루션이 올바른지 평가하십시오.\n",
        "문제를 직접 해결 해보기 전에는 학생의 솔루션이 맞는지 판단하지 마십시오.\n",
        "\n",
        "다음 형식을 사용하시오:\n",
        "질문:\n",
        "```\n",
        "질문은 여기에.\n",
        "```\n",
        "학생의 솔루션:\n",
        "```\n",
        "학생의 솔루션을 여기에 둡니다.\n",
        "```\n",
        "실제 솔루션:\n",
        "```\n",
        "솔루션을 해결하는 단계이며, 여기에 솔루션을 둡니다.\n",
        "```\n",
        "학생의 솔루션이 방금 계산한 자신의 솔루션과 동일합니까?\n",
        "```\n",
        "예 또는 아니오\n",
        "```\n",
        "Student grade:\n",
        "```\n",
        "correct or incorrect\n",
        "```\n",
        "\n",
        "질문:\n",
        "```\n",
        "저는 태양광 발전 시설을 짓고 있는데 재정 문제를 해결하는 데 도움이 필요합니다.\n",
        "- 토지 비용 $100/평방피트\n",
        "- 평방피트당 $250에 태양광 패널을 살 수 있습니다.\n",
        "- 연간 $100,000의 고정 비용과 평방 피트당 $10의 추가 비용이 드는 유지 보수 계약을 협상했습니다.\n",
        "평방 피트 수의 함수로 운영 첫 해의 총 비용은 얼마입니까?\n",
        "```\n",
        "학생의 솔루션:\n",
        "```\n",
        "x를 평방 피트 단위의 설치 크기라고 합니다.\n",
        "비용:\n",
        "1. 토지 비용: 100x\n",
        "2. 태양 전지 패널 비용: 250x\n",
        "3. 유지비 : 100,000 + 100x\n",
        "총 비용: 100x + 250x + 100,000 + 100x = 450x + 100,000\n",
        "```\n",
        "실제 솔루션:\n",
        "\"\"\"\n",
        "response = get_completion(prompt)\n",
        "print(response)"
      ],
      "metadata": {
        "colab": {
          "base_uri": "https://localhost:8080/"
        },
        "id": "P7UGTBoW9-fr",
        "outputId": "dd45b939-6795-432b-c4b6-bdf649659687"
      },
      "execution_count": 13,
      "outputs": [
        {
          "output_type": "stream",
          "name": "stdout",
          "text": [
            "```\n",
            "총 비용 = (토지 비용 + 태양광 패널 비용) + (고정 비용 + 유지 보수 비용)\n",
            "총 비용 = ($100 * x + $250 * x) + ($100,000 + $10 * x)\n",
            "총 비용 = $350x + $100,000 + $10x\n",
            "총 비용 = $360x + $100,000\n",
            "```\n",
            "학생의 솔루션이 방금 계산한 자신의 솔루션과 동일합니까?\n",
            "```\n",
            "아니오\n",
            "```\n",
            "Student grade:\n",
            "```\n",
            "incorrect\n",
            "```\n"
          ]
        }
      ]
    },
    {
      "cell_type": "code",
      "source": [],
      "metadata": {
        "id": "lvjTOcBi-AyT"
      },
      "execution_count": null,
      "outputs": []
    }
  ]
}