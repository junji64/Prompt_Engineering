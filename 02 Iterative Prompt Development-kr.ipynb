{
 "cells": [
  {
   "cell_type": "markdown",
   "metadata": {},
   "source": [
    "# Iterative Prompt Develelopment\n",
    "\n",
    "<img src=\"https://miro.medium.com/v2/resize:fit:586/1*ULrN_P4GIT1Vxv05IhUVSg.png\" width=450>\n",
    "\n",
    "이 레슨에서는 프롬프트를 반복적으로 분석하고 구체화하여 \"제품 팩트 시트\"에서 \"마케팅 카피\"를 생성해봅니다.\n",
    "\n",
    "## Setup"
   ]
  },
  {
   "cell_type": "code",
   "execution_count": 31,
   "metadata": {},
   "outputs": [],
   "source": [
    "import openai\n",
    "import os\n",
    "\n",
    "from dotenv import load_dotenv, find_dotenv\n",
    "_ = load_dotenv(find_dotenv()) # read local .env file\n",
    "openai.api_key  = os.getenv('OPENAI_API_KEY')"
   ]
  },
  {
   "cell_type": "code",
   "execution_count": 32,
   "metadata": {},
   "outputs": [],
   "source": [
    "def get_completion(prompt, model=\"gpt-3.5-turbo\"):\n",
    "    messages = [{\"role\": \"user\", \"content\": prompt}]\n",
    "    response = openai.ChatCompletion.create(\n",
    "        model=model,\n",
    "        messages=messages,\n",
    "        temperature=0, # this is the degree of randomness of the model's output\n",
    "    )\n",
    "    return response.choices[0].message[\"content\"]"
   ]
  },
  {
   "cell_type": "markdown",
   "metadata": {},
   "source": [
    "## Generate a marketing product description from a product fact sheet"
   ]
  },
  {
   "cell_type": "code",
   "execution_count": 33,
   "metadata": {},
   "outputs": [],
   "source": [
    "fact_sheet_chair = \"\"\"\n",
    "OVERVIEW\n",
    "- 파일 캐비넷, 책상, 책장, 회의 테이블 등을 포함하여 세기 중반에서 영감을 받은\\\n",
    "  아름다운 사무용 가구 제품군의 일부입니다.\n",
    "- 쉘 색상 및 기본 마감의 여러 옵션.\n",
    "- 10가지 패브릭 및 6가지 가죽 옵션으로 플라스틱 후면 및 전면 덮개(SWC-100) \\\n",
    "  또는 전체 덮개(SWC-110)로 제공됩니다.\n",
    "- 기본 마감 옵션은 스테인리스 스틸, 무광 블랙, 유광 화이트 또는 크롬입니다.\n",
    "- 팔걸이가 있는 의자와 없는 의자가 있습니다.\n",
    "- 가정 또는 비즈니스 환경에 적합합니다.\n",
    "- 계약 사용 자격이 있습니다.\n",
    "\n",
    "CONSTRUCTION\n",
    "- 5륜 플라스틱 코팅 알루미늄 베이스.\n",
    "- 공압식 의자는 쉽게 올리거나 내릴 수 있도록 조정합니다.\n",
    "\n",
    "DIMENSIONS\n",
    "- WIDTH 53 CM | 20.87”\n",
    "- DEPTH 51 CM | 20.08”\n",
    "- HEIGHT 80 CM | 31.50”\n",
    "- SEAT HEIGHT 44 CM | 17.32”\n",
    "- SEAT DEPTH 41 CM | 16.14”\n",
    "\n",
    "OPTIONS\n",
    "- 부드러운 바닥 또는 단단한 바닥 캐스터 옵션.\n",
    "- 시트 폼 밀도의 두 가지 선택:\n",
    "  중간(1.8lb/ft3) 또는 높음(2.8lb/ft3)\n",
    "- Armless 또는 8 위치 PU 팔걸이\n",
    "\n",
    "MATERIALS\n",
    "SHELL BASE GLIDER\n",
    "- 변성 나일론 PA6/PA66 코팅이 적용된 주조 알루미늄.\n",
    "- 쉘 두께: 10mm.\n",
    "SEAT\n",
    "- HD36 foam\n",
    "\n",
    "COUNTRY OF ORIGIN\n",
    "- Italy\n",
    "\"\"\""
   ]
  },
  {
   "cell_type": "code",
   "execution_count": 34,
   "metadata": {},
   "outputs": [
    {
     "name": "stdout",
     "output_type": "stream",
     "text": [
      "이 제품은 세기 중반에서 영감을 받은 아름다운 사무용 가구 제품군의 일부로, 파일 캐비넷, 책상, 책장, 회의 테이블 등을 포함하고 있습니다. 쉘 색상과 기본 마감에는 여러 옵션이 있으며, 10가지 패브릭과 6가지 가죽 옵션으로 제공됩니다. 또한, 플라스틱 후면 및 전면 덮개 또는 전체 덮개로도 선택할 수 있습니다.\n",
      "\n",
      "이 제품은 스테인리스 스틸, 무광 블랙, 유광 화이트 또는 크롬과 같은 다양한 기본 마감 옵션을 제공하며, 팔걸이가 있는 의자와 없는 의자가 있습니다. 가정이나 비즈니스 환경에 모두 적합하며, 계약 사용자도 사용할 수 있습니다.\n",
      "\n",
      "구성은 5륜 플라스틱 코팅 알루미늄 베이스로 이루어져 있으며, 공압식 의자는 쉽게 조절할 수 있습니다. 크기는 폭 53cm, 깊이 51cm, 높이 80cm이며, 시트 높이는 44cm, 시트 깊이는 41cm입니다.\n",
      "\n",
      "부드러운 바닥 또는 단단한 바닥 캐스터 옵션과 시트 폼 밀도의 두 가지 선택(중간 또는 높음)이 있으며, Armless 또는 8 위치 PU 팔걸이도 선택할 수 있습니다. 소재는 변성 나일론 PA6/PA66 코팅이 적용된 주조 알루미늄과 HD36 폼으로 만들어졌으며, 원산지는 이탈리아입니다.\n"
     ]
    }
   ],
   "source": [
    "prompt = f\"\"\"\n",
    "귀하의 임무는 마케팅 팀이 기술 팩트 시트를 기반으로 \\\n",
    "제품의 소매 웹사이트에 대한 설명을 작성하도록 돕는 것입니다.\n",
    "\n",
    "세 개의 백틱으로 구분된 기술 사양에 제공된 정보를 기반으로 \\\n",
    "제품 설명을 작성합니다.\n",
    "\n",
    "기술 사양: ```{fact_sheet_chair}```\n",
    "\"\"\"\n",
    "response = get_completion(prompt)\n",
    "print(response)"
   ]
  },
  {
   "cell_type": "markdown",
   "metadata": {},
   "source": [
    "## Issue 1: The text is too long \n",
    "- 단어/문장/문자 수를 제한하세요.."
   ]
  },
  {
   "cell_type": "code",
   "execution_count": 35,
   "metadata": {},
   "outputs": [
    {
     "name": "stdout",
     "output_type": "stream",
     "text": [
      "이 제품군은 세기 중반에서 영감을 받은 사무용 가구로, 다양한 옵션과 쉘 색상이 제공됩니다. 5륜 플라스틱 코팅 알루미늄 베이스와 공압식 의자로 편안함을 제공합니다. 부드러운 바닥 또는 단단한 바닥 캐스터 옵션과 시트 폼 밀도 선택이 가능하며, 이탈리아에서 생산되었습니다.\n"
     ]
    }
   ],
   "source": [
    "prompt = f\"\"\"\n",
    "귀하의 임무는 마케팅 팀이 기술 팩트 시트를 기반으로 \\\n",
    "제품의 소매 웹사이트에 대한 설명을 작성하도록 돕는 것입니다.\n",
    "\n",
    "세 개의 백틱으로 구분된 기술 사양에 제공된 정보를 기반으로 \\\n",
    "제품 설명을 작성합니다.\n",
    "\n",
    "최대 50 단어를 사용하십시오.\n",
    "\n",
    "기술 사양: ```{fact_sheet_chair}```\n",
    "\"\"\"\n",
    "response = get_completion(prompt)\n",
    "print(response)"
   ]
  },
  {
   "cell_type": "code",
   "execution_count": 36,
   "metadata": {},
   "outputs": [
    {
     "data": {
      "text/plain": [
       "36"
      ]
     },
     "execution_count": 36,
     "metadata": {},
     "output_type": "execute_result"
    }
   ],
   "source": [
    "len(response.split(\" \"))"
   ]
  },
  {
   "cell_type": "markdown",
   "metadata": {},
   "source": [
    "## Issue 2. Text focuses on the wrong details\n",
    "- 대상 청중과 관련된 측면에 초점을 맞추도록 요청하십시오."
   ]
  },
  {
   "cell_type": "code",
   "execution_count": 37,
   "metadata": {},
   "outputs": [
    {
     "name": "stdout",
     "output_type": "stream",
     "text": [
      "이 세기 중반에서 영감을 받은 사무용 가구 제품군은 고품질 재료로 제작되었습니다. 알루미늄 베이스와 HD36 폼 시트로 편안함과 내구성을 제공합니다. 다양한 옵션과 색상으로 가정 또는 비즈니스 환경에 적합하며, 이탈리아에서 제조되었습니다. 제품 ID: SWC-100, SWC-110.\n"
     ]
    }
   ],
   "source": [
    "prompt = f\"\"\"\n",
    "귀하의 임무는 마케팅 팀이 기술 팩트 시트를 기반으로 \\\n",
    "제품의 소매 웹사이트에 대한 설명을 작성하도록 돕는 것입니다.\n",
    "\n",
    "세 개의 백틱으로 구분된 기술 사양에 제공된 정보를 기반으로 \\\n",
    "제품 설명을 작성합니다.\n",
    "\n",
    "설명은 가구 소매상을 위한 것이므로 본질적으로 기술적이어야 하며\\\n",
    "제품이 구성되는 재료에 중점을 두어야 합니다.\n",
    "\n",
    "설명 끝에는 기술 사양의 모든 7자 제품 ID를 포함합니다.\n",
    "\n",
    "최대 50단어를 사용하십시오.\n",
    "\n",
    "기술 사양: ```{fact_sheet_chair}```\n",
    "\"\"\"\n",
    "response = get_completion(prompt)\n",
    "print(response)"
   ]
  },
  {
   "cell_type": "markdown",
   "metadata": {},
   "source": [
    "## Issue 3. Description needs a table of dimensions\n",
    "- 정보를 추출하고 표로 정리하도록 요청하십시오."
   ]
  },
  {
   "cell_type": "code",
   "execution_count": 38,
   "metadata": {},
   "outputs": [
    {
     "name": "stdout",
     "output_type": "stream",
     "text": [
      "<div>\n",
      "  <p>이 제품은 파일 캐비넷, 책상, 책장, 회의 테이블 등을 포함하여 세기 중반에서 영감을 받은 아름다운 사무용 가구 제품군의 일부입니다. 다양한 쉘 색상 및 기본 마감 옵션을 제공하며, 10가지 패브릭 및 6가지 가죽 옵션으로 플라스틱 후면 및 전면 덮개(SWC-100) 또는 전체 덮개(SWC-110)로 제공됩니다. 기본 마감 옵션은 스테인리스 스틸, 무광 블랙, 유광 화이트 또는 크롬입니다. 이 제품은 팔걸이가 있는 의자와 없는 의자가 있어 가정 또는 비즈니스 환경에 모두 적합하며, 계약 사용 자격이 있습니다.</p>\n",
      "  \n",
      "  <p>구성은 5륜 플라스틱 코팅 알루미늄 베이스로 이루어져 있으며, 공압식 의자는 쉽게 올리거나 내릴 수 있도록 조정할 수 있습니다.</p>\n",
      "  \n",
      "  <h2>제품 치수</h2>\n",
      "  <table>\n",
      "    <tr>\n",
      "      <td>WIDTH</td>\n",
      "      <td>53 CM | 20.87”</td>\n",
      "    </tr>\n",
      "    <tr>\n",
      "      <td>DEPTH</td>\n",
      "      <td>51 CM | 20.08”</td>\n",
      "    </tr>\n",
      "    <tr>\n",
      "      <td>HEIGHT</td>\n",
      "      <td>80 CM | 31.50”</td>\n",
      "    </tr>\n",
      "    <tr>\n",
      "      <td>SEAT HEIGHT</td>\n",
      "      <td>44 CM | 17.32”</td>\n",
      "    </tr>\n",
      "    <tr>\n",
      "      <td>SEAT DEPTH</td>\n",
      "      <td>41 CM | 16.14”</td>\n",
      "    </tr>\n",
      "  </table>\n",
      "  \n",
      "  <p>옵션으로는 부드러운 바닥 또는 단단한 바닥 캐스터 옵션이 있으며, 시트 폼 밀도의 두 가지 선택이 가능합니다: 중간(1.8lb/ft3) 또는 높음(2.8lb/ft3). 또한 Armless 또는 8 위치 PU 팔걸이를 선택할 수 있습니다.</p>\n",
      "  \n",
      "  <p>재료로는 변성 나일론 PA6/PA66 코팅이 적용된 주조 알루미늄으로 만들어진 쉘 베이스 글라이더와 HD36 폼으로 만들어진 시트가 사용되었습니다. 이 제품은 이탈리아에서 생산되었습니다.</p>\n",
      "</div>\n"
     ]
    }
   ],
   "source": [
    "prompt = f\"\"\"\n",
    "귀하의 임무는 마케팅 팀이 기술 팩트 시트를 기반으로 \\\n",
    "제품의 소매 웹사이트에 대한 설명을 작성하도록 돕는 것입니다.\n",
    "\n",
    "세 개의 백틱으로 구분된 기술 사양에 제공된 정보를 기반으로 \\\n",
    "제품 설명을 작성합니다.\n",
    "\n",
    "설명은 가구 소매상을 위한 것이므로 본질적으로 기술적이어야 하며\\\n",
    "제품이 구성되는 재료에 중점을 두어야 합니다.\n",
    "\n",
    "설명 뒤에 제품의 크기를 제공하는 표를 포함합니다. \\\n",
    "테이블에는 두 개의 열이 있어야 합니다.\n",
    "첫 번째 열에는 차원의 이름이 포함됩니다.\n",
    "두 번째 열에는 인치 단위의 측정값만 포함합니다.\n",
    "\n",
    "테이블에 '제품 치수'라는 제목을 지정하십시오.\n",
    "\n",
    "웹사이트에서 사용할 수 있는 모든 것을 HTML로 포맷합니다.\n",
    "설명을 <div> 요소에 배치합니다.\n",
    "\n",
    "기술 사양: ```{fact_sheet_chair}```\n",
    "\"\"\"\n",
    "response = get_completion(prompt)\n",
    "print(response_kr)"
   ]
  },
  {
   "cell_type": "markdown",
   "metadata": {},
   "source": [
    "## Load Python libraries to view HTML"
   ]
  },
  {
   "cell_type": "code",
   "execution_count": 39,
   "metadata": {},
   "outputs": [],
   "source": [
    "from IPython.display import display, HTML"
   ]
  },
  {
   "cell_type": "code",
   "execution_count": 40,
   "metadata": {},
   "outputs": [
    {
     "data": {
      "text/html": [
       "<div>\n",
       "  <p>이 제품은 파일 캐비넷, 책상, 책장, 회의 테이블 등을 포함하여 세기 중반에서 영감을 받은 아름다운 사무용 가구 제품군의 일부입니다. 쉘 색상과 기본 마감의 여러 옵션이 있으며, 10가지 패브릭과 6가지 가죽 옵션으로 제공됩니다. 기본 마감 옵션은 스테인리스 스틸, 무광 블랙, 유광 화이트 또는 크롬입니다. 의자에는 팔걸이가 있는 것과 없는 것이 있어 가정 또는 비즈니스 환경에 모두 적합합니다. 계약 사용 자격이 있습니다.</p>\n",
       "  <p>구성은 5륜 플라스틱 코팅 알루미늄 베이스로 되어 있으며, 공압식 의자는 쉽게 올리거나 내릴 수 있도록 조정할 수 있습니다.</p>\n",
       "  <p>재료는 변성 나일론 PA6/PA66 코팅이 적용된 주조 알루미늄으로 만들어진 쉘 베이스와 HD36 폼으로 만들어진 시트로 구성되어 있습니다.</p>\n",
       "</div>\n",
       "\n",
       "<table>\n",
       "  <tr>\n",
       "    <th>차원</th>\n",
       "    <th>인치</th>\n",
       "  </tr>\n",
       "  <tr>\n",
       "    <td>너비</td>\n",
       "    <td>20.87\"</td>\n",
       "  </tr>\n",
       "  <tr>\n",
       "    <td>깊이</td>\n",
       "    <td>20.08\"</td>\n",
       "  </tr>\n",
       "  <tr>\n",
       "    <td>높이</td>\n",
       "    <td>31.50\"</td>\n",
       "  </tr>\n",
       "  <tr>\n",
       "    <td>좌석 높이</td>\n",
       "    <td>17.32\"</td>\n",
       "  </tr>\n",
       "  <tr>\n",
       "    <td>좌석 깊이</td>\n",
       "    <td>16.14\"</td>\n",
       "  </tr>\n",
       "</table>"
      ],
      "text/plain": [
       "<IPython.core.display.HTML object>"
      ]
     },
     "metadata": {},
     "output_type": "display_data"
    }
   ],
   "source": [
    "display(HTML(response))"
   ]
  },
  {
   "cell_type": "code",
   "execution_count": 41,
   "metadata": {},
   "outputs": [
    {
     "data": {
      "text/plain": [
       "\"\\n귀하의 임무는 마케팅 팀이 기술 팩트 시트를 기반으로 제품의 소매 웹사이트에 대한 설명을 작성하도록 돕는 것입니다.\\n\\n세 개의 백틱으로 구분된 기술 사양에 제공된 정보를 기반으로 제품 설명을 작성합니다.\\n\\n설명은 가구 소매상을 위한 것이므로 본질적으로 기술적이어야 하며제품이 구성되는 재료에 중점을 두어야 합니다.\\n\\n설명 뒤에 제품의 크기를 제공하는 표를 포함합니다. 테이블에는 두 개의 열이 있어야 합니다.\\n첫 번째 열에는 차원의 이름이 포함됩니다.\\n두 번째 열에는 인치 단위의 측정값만 포함합니다.\\n\\n테이블에 '제품 치수'라는 제목을 지정하십시오.\\n\\n웹사이트에서 사용할 수 있는 모든 것을 HTML로 포맷합니다.\\n설명을 <div> 요소에 배치합니다.\\n\\n기술 사양: ```\\nOVERVIEW\\n- 파일 캐비넷, 책상, 책장, 회의 테이블 등을 포함하여 세기 중반에서 영감을 받은  아름다운 사무용 가구 제품군의 일부입니다.\\n- 쉘 색상 및 기본 마감의 여러 옵션.\\n- 10가지 패브릭 및 6가지 가죽 옵션으로 플라스틱 후면 및 전면 덮개(SWC-100)   또는 전체 덮개(SWC-110)로 제공됩니다.\\n- 기본 마감 옵션은 스테인리스 스틸, 무광 블랙, 유광 화이트 또는 크롬입니다.\\n- 팔걸이가 있는 의자와 없는 의자가 있습니다.\\n- 가정 또는 비즈니스 환경에 적합합니다.\\n- 계약 사용 자격이 있습니다.\\n\\nCONSTRUCTION\\n- 5륜 플라스틱 코팅 알루미늄 베이스.\\n- 공압식 의자는 쉽게 올리거나 내릴 수 있도록 조정합니다.\\n\\nDIMENSIONS\\n- WIDTH 53 CM | 20.87”\\n- DEPTH 51 CM | 20.08”\\n- HEIGHT 80 CM | 31.50”\\n- SEAT HEIGHT 44 CM | 17.32”\\n- SEAT DEPTH 41 CM | 16.14”\\n\\nOPTIONS\\n- 부드러운 바닥 또는 단단한 바닥 캐스터 옵션.\\n- 시트 폼 밀도의 두 가지 선택:\\n  중간(1.8lb/ft3) 또는 높음(2.8lb/ft3)\\n- Armless 또는 8 위치 PU 팔걸이\\n\\nMATERIALS\\nSHELL BASE GLIDER\\n- 변성 나일론 PA6/PA66 코팅이 적용된 주조 알루미늄.\\n- 쉘 두께: 10mm.\\nSEAT\\n- HD36 foam\\n\\nCOUNTRY OF ORIGIN\\n- Italy\\n```\\n\""
      ]
     },
     "execution_count": 41,
     "metadata": {},
     "output_type": "execute_result"
    }
   ],
   "source": [
    "prompt"
   ]
  },
  {
   "cell_type": "code",
   "execution_count": 44,
   "metadata": {},
   "outputs": [
    {
     "data": {
      "text/html": [
       "\n",
       "<!DOCTYPE html>\n",
       "<html lang=\"en\">\n",
       "<head>\n",
       "<meta charset=\"UTF-8\">\n",
       "<meta name=\"viewport\" content=\"width=device-width, initial-scale=1.0\">\n",
       "<title>제품 설명</title>\n",
       "</head>\n",
       "<body>\n",
       "\n",
       "<div id=\"product-description\">\n",
       "    <h2>제품 설명</h2>\n",
       "    <p>파일 캐비넷, 책상, 책장, 회의 테이블 등을 포함하여 세기 중반에서 영감을 받은 아름다운 사무용 가구 제품군의 일부입니다. 쉘 색상 및 기본 마감의 여러 옵션을 제공하며, 10가지 패브릭 및 6가지 가죽 옵션으로 플라스틱 후면 및 전면 덮개(SWC-100) 또는 전체 덮개(SWC-110)로 제공됩니다. 기본 마감 옵션은 스테인리스 스틸, 무광 블랙, 유광 화이트 또는 크롬입니다. 또한, 팔걸이가 있는 의자와 없는 의자가 있으며, 가정 또는 비즈니스 환경에 모두 적합하며, 계약 사용 자격이 있습니다.</p>\n",
       "    <h3>구성</h3>\n",
       "    <ul>\n",
       "        <li>5륜 플라스틱 코팅 알루미늄 베이스</li>\n",
       "        <li>공압식 의자는 쉽게 올리거나 내릴 수 있도록 조정합니다.</li>\n",
       "    </ul>\n",
       "    <h3>옵션</h3>\n",
       "    <ul>\n",
       "        <li>부드러운 바닥 또는 단단한 바닥 캐스터 옵션</li>\n",
       "        <li>시트 폼 밀도의 두 가지 선택: 중간(1.8lb/ft3) 또는 높음(2.8lb/ft3)</li>\n",
       "        <li>Armless 또는 8 위치 PU 팔걸이</li>\n",
       "    </ul>\n",
       "    <h3>재료</h3>\n",
       "    <ul>\n",
       "        <li>쉘 베이스 글라이더: 변성 나일론 PA6/PA66 코팅이 적용된 주조 알루미늄, 쉘 두께: 10mm</li>\n",
       "        <li>시트: HD36 foam</li>\n",
       "    </ul>\n",
       "    <h3>원산지</h3>\n",
       "    <p>이탈리아</p>\n",
       "</div>\n",
       "\n",
       "<table>\n",
       "    <caption>제품 치수</caption>\n",
       "    <tr>\n",
       "        <th>차원</th>\n",
       "        <th>인치</th>\n",
       "    </tr>\n",
       "    <tr>\n",
       "        <td>너비</td>\n",
       "        <td>20.87\"</td>\n",
       "    </tr>\n",
       "    <tr>\n",
       "        <td>깊이</td>\n",
       "        <td>20.08\"</td>\n",
       "    </tr>\n",
       "    <tr>\n",
       "        <td>높이</td>\n",
       "        <td>31.50\"</td>\n",
       "    </tr>\n",
       "    <tr>\n",
       "        <td>좌석 높이</td>\n",
       "        <td>17.32\"</td>\n",
       "    </tr>\n",
       "    <tr>\n",
       "        <td>좌석 깊이</td>\n",
       "        <td>16.14\"</td>\n",
       "    </tr>\n",
       "</table>\n",
       "\n",
       "</body>\n",
       "</html>\n"
      ],
      "text/plain": [
       "<IPython.core.display.HTML object>"
      ]
     },
     "metadata": {},
     "output_type": "display_data"
    }
   ],
   "source": [
    "response_2 = \"\"\"\n",
    "<!DOCTYPE html>\n",
    "<html lang=\"en\">\n",
    "<head>\n",
    "<meta charset=\"UTF-8\">\n",
    "<meta name=\"viewport\" content=\"width=device-width, initial-scale=1.0\">\n",
    "<title>제품 설명</title>\n",
    "</head>\n",
    "<body>\n",
    "\n",
    "<div id=\"product-description\">\n",
    "    <h2>제품 설명</h2>\n",
    "    <p>파일 캐비넷, 책상, 책장, 회의 테이블 등을 포함하여 세기 중반에서 영감을 받은 아름다운 사무용 가구 제품군의 일부입니다. 쉘 색상 및 기본 마감의 여러 옵션을 제공하며, 10가지 패브릭 및 6가지 가죽 옵션으로 플라스틱 후면 및 전면 덮개(SWC-100) 또는 전체 덮개(SWC-110)로 제공됩니다. 기본 마감 옵션은 스테인리스 스틸, 무광 블랙, 유광 화이트 또는 크롬입니다. 또한, 팔걸이가 있는 의자와 없는 의자가 있으며, 가정 또는 비즈니스 환경에 모두 적합하며, 계약 사용 자격이 있습니다.</p>\n",
    "    <h3>구성</h3>\n",
    "    <ul>\n",
    "        <li>5륜 플라스틱 코팅 알루미늄 베이스</li>\n",
    "        <li>공압식 의자는 쉽게 올리거나 내릴 수 있도록 조정합니다.</li>\n",
    "    </ul>\n",
    "    <h3>옵션</h3>\n",
    "    <ul>\n",
    "        <li>부드러운 바닥 또는 단단한 바닥 캐스터 옵션</li>\n",
    "        <li>시트 폼 밀도의 두 가지 선택: 중간(1.8lb/ft3) 또는 높음(2.8lb/ft3)</li>\n",
    "        <li>Armless 또는 8 위치 PU 팔걸이</li>\n",
    "    </ul>\n",
    "    <h3>재료</h3>\n",
    "    <ul>\n",
    "        <li>쉘 베이스 글라이더: 변성 나일론 PA6/PA66 코팅이 적용된 주조 알루미늄, 쉘 두께: 10mm</li>\n",
    "        <li>시트: HD36 foam</li>\n",
    "    </ul>\n",
    "    <h3>원산지</h3>\n",
    "    <p>이탈리아</p>\n",
    "</div>\n",
    "\n",
    "<table>\n",
    "    <caption>제품 치수</caption>\n",
    "    <tr>\n",
    "        <th>차원</th>\n",
    "        <th>인치</th>\n",
    "    </tr>\n",
    "    <tr>\n",
    "        <td>너비</td>\n",
    "        <td>20.87\"</td>\n",
    "    </tr>\n",
    "    <tr>\n",
    "        <td>깊이</td>\n",
    "        <td>20.08\"</td>\n",
    "    </tr>\n",
    "    <tr>\n",
    "        <td>높이</td>\n",
    "        <td>31.50\"</td>\n",
    "    </tr>\n",
    "    <tr>\n",
    "        <td>좌석 높이</td>\n",
    "        <td>17.32\"</td>\n",
    "    </tr>\n",
    "    <tr>\n",
    "        <td>좌석 깊이</td>\n",
    "        <td>16.14\"</td>\n",
    "    </tr>\n",
    "</table>\n",
    "\n",
    "</body>\n",
    "</html>\n",
    "\"\"\"\n",
    "\n",
    "display(HTML(response_2))"
   ]
  },
  {
   "cell_type": "markdown",
   "metadata": {},
   "source": [
    "## Try experimenting on your own!"
   ]
  },
  {
   "cell_type": "code",
   "execution_count": null,
   "metadata": {},
   "outputs": [],
   "source": []
  }
 ],
 "metadata": {
  "kernelspec": {
   "display_name": "Python 3 (ipykernel)",
   "language": "python",
   "name": "python3"
  },
  "language_info": {
   "codemirror_mode": {
    "name": "ipython",
    "version": 3
   },
   "file_extension": ".py",
   "mimetype": "text/x-python",
   "name": "python",
   "nbconvert_exporter": "python",
   "pygments_lexer": "ipython3",
   "version": "3.11.4"
  }
 },
 "nbformat": 4,
 "nbformat_minor": 4
}
